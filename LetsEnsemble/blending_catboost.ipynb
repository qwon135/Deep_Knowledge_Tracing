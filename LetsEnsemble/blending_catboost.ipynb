{
 "cells": [
  {
   "cell_type": "code",
   "execution_count": 1,
   "id": "92d257cd-824a-4921-8b21-c14bada43824",
   "metadata": {},
   "outputs": [],
   "source": [
    "# https://www.kaggle.com/code/sarmat/lgbm-stacking-example/notebook"
   ]
  },
  {
   "cell_type": "code",
   "execution_count": 1,
   "id": "e1cc2c9a-80ee-4932-b759-7f49c34b9ee2",
   "metadata": {},
   "outputs": [],
   "source": [
    "\n",
    "from sklearn import metrics\n",
    "from sklearn.metrics import RocCurveDisplay, accuracy_score, roc_auc_score, precision_score, recall_score, f1_score, roc_curve, auc\n",
    "from sklearn.model_selection import cross_val_score, KFold\n",
    "from sklearn.model_selection import train_test_split\n",
    "import lightgbm as lgb\n",
    "from catboost import CatBoostClassifier, Pool\n",
    "import pandas as pd\n",
    "import numpy as np\n",
    "import torch\n",
    "from tqdm import tqdm\n",
    "from dataset import custom_train_test_split, make_dataset\n",
    "\n",
    "from sklearn.metrics import RocCurveDisplay, accuracy_score, roc_auc_score, precision_score, recall_score, f1_score, roc_curve, auc\n",
    "\n",
    "\n",
    "def get_metric(targets, preds):\n",
    "    auc = roc_auc_score(targets, preds)\n",
    "    acc = accuracy_score(targets, np.where(preds >= 0.5, 1, 0))\n",
    "    precsion = precision_score(targets, np.where(preds >= 0.5, 1, 0))\n",
    "    recall = recall_score(targets, np.where(preds >= 0.5, 1, 0))\n",
    "    F1_score = f1_score(targets, np.where(preds >= 0.5, 1, 0))\n",
    "\n",
    "    print('auc :',auc)\n",
    "    print('acc :',acc)\n",
    "    print('precision :',precsion)\n",
    "    print('recall :',recall)\n",
    "\n",
    "def test_to_csv(preds, name:str):\n",
    "    \n",
    "    result = []\n",
    "    for n,i in enumerate(preds):\n",
    "        row = {}    \n",
    "        row['id'] = n\n",
    "        row['prediction'] = i\n",
    "        result.append(row)\n",
    "    pd.DataFrame(result).to_csv(f'output/{name}.csv', index=None)\n",
    "    \n"
   ]
  },
  {
   "cell_type": "code",
   "execution_count": 33,
   "id": "ee7f6473-3745-4b22-9fbd-f6dfe18b4a5d",
   "metadata": {},
   "outputs": [],
   "source": [
    "cate_cols = [\n",
    "            'assessmentItemID',\n",
    "            'testId',\n",
    "            'KnowledgeTag',\n",
    "            'hour',\n",
    "            'dow',\n",
    "            # 'i_head',\n",
    "            # 'i_mid',\n",
    "            # 'i_tail',\n",
    "]\n",
    "cont_cols = [                        \n",
    "            'user_correct_answer',\n",
    "            'user_total_answer',\n",
    "            'user_acc',            \n",
    "            't_elapsed',            \n",
    "            'cum_correct',\n",
    "            'last_problem',\n",
    "            'head_term',\n",
    "            # 'left_asymptote',\n",
    "            'elo_prob',\n",
    "            'pkt',\n",
    "            'u_head_mean',\n",
    "            'u_head_count',\n",
    "            'u_head_std',\n",
    "            'u_head_elapsed',\n",
    "            'i_mid_elapsed',\n",
    "            'i_mid_mean',\n",
    "            'i_mid_std',\n",
    "            'i_mid_sum',\n",
    "            'i_mid_count',\n",
    "            'i_mid_tag_count',\n",
    "            # 'assessment_mean',\n",
    "            # 'assessment_sum',\n",
    "            # 'assessment_std',\n",
    "            'tag_mean',\n",
    "            'tag_sum',\n",
    "            # 'tag_std',\n",
    "            'tail_mean',\n",
    "            'tail_sum',\n",
    "            # 'tail_std',\n",
    "            'hour_mean',\n",
    "            'hour_sum',\n",
    "            # 'hour_std',\n",
    "            'dow_mean',\n",
    "            'dow_sum',\n",
    "            # 'dow_std',\n",
    "            'tag_elapsed',\n",
    "            'tag_elapsed_o',\n",
    "            'tag_elapsed_x',\n",
    "            'assessment_elapsed',\n",
    "            'assessment_elapsed_o',\n",
    "            'assessment_elapsed_x',\n",
    "            'tail_elapsed',\n",
    "            'tail_elapsed_o',\n",
    "            'tail_elapsed_x'\n",
    "            ]\n",
    "\n",
    "FEATS = cate_cols + cont_cols"
   ]
  },
  {
   "cell_type": "code",
   "execution_count": 3,
   "id": "8d820d84",
   "metadata": {},
   "outputs": [],
   "source": [
    "train_data = pd.read_pickle('/opt/ml/level2-dkt-level2-recsys-08/data_pkl/train_data.pkl')\n",
    "valid_user = pd.read_csv('/opt/ml/input/data/cv_valid_data.csv').userID.unique()\n",
    "from dataset import feature_engineering, custom_train_test_split, make_dataset\n",
    "\n",
    "\n",
    "train = train_data[train_data.userID.isin(valid_user)==False]\n",
    "valid = train_data[train_data.userID.isin(valid_user)==True]\n",
    "\n",
    "y_train, x_train, y_valid, x_valid = make_dataset(train, valid)\n",
    "\n",
    "test = pd.read_pickle('/opt/ml/level2-dkt-level2-recsys-08/data_pkl/test_data.pkl')\n",
    "test = test[test.answerCode==-1]"
   ]
  },
  {
   "cell_type": "code",
   "execution_count": 32,
   "id": "c404f1b8-04c6-49bf-843b-3f3485fd513a",
   "metadata": {},
   "outputs": [
    {
     "data": {
      "application/vnd.jupyter.widget-view+json": {
       "model_id": "82f1f79b11a64dc3aec019218f3a0656",
       "version_major": 2,
       "version_minor": 0
      },
      "text/plain": [
       "MetricVisualizer(layout=Layout(align_self='stretch', height='500px'))"
      ]
     },
     "metadata": {},
     "output_type": "display_data"
    },
    {
     "data": {
      "application/vnd.jupyter.widget-view+json": {
       "model_id": "afb7a27bbc3f48ae92030a1f1b018e42",
       "version_major": 2,
       "version_minor": 0
      },
      "text/plain": [
       "MetricVisualizer(layout=Layout(align_self='stretch', height='500px'))"
      ]
     },
     "metadata": {},
     "output_type": "display_data"
    },
    {
     "data": {
      "application/vnd.jupyter.widget-view+json": {
       "model_id": "101010905c384f4bb3f6fd069f095bec",
       "version_major": 2,
       "version_minor": 0
      },
      "text/plain": [
       "MetricVisualizer(layout=Layout(align_self='stretch', height='500px'))"
      ]
     },
     "metadata": {},
     "output_type": "display_data"
    },
    {
     "data": {
      "application/vnd.jupyter.widget-view+json": {
       "model_id": "81a77a188ed847ad9ef7e4eff57c9c73",
       "version_major": 2,
       "version_minor": 0
      },
      "text/plain": [
       "MetricVisualizer(layout=Layout(align_self='stretch', height='500px'))"
      ]
     },
     "metadata": {},
     "output_type": "display_data"
    },
    {
     "data": {
      "application/vnd.jupyter.widget-view+json": {
       "model_id": "8f485702f64f476ea3ec0f9e054635e1",
       "version_major": 2,
       "version_minor": 0
      },
      "text/plain": [
       "MetricVisualizer(layout=Layout(align_self='stretch', height='500px'))"
      ]
     },
     "metadata": {},
     "output_type": "display_data"
    },
    {
     "name": "stdout",
     "output_type": "stream",
     "text": [
      "auc : 0.853243867111266\n",
      "acc : 0.7982733439100532\n",
      "precision : 0.8143929263433671\n",
      "recall : 0.8964462735438132\n",
      "AUC LGB1:None \n",
      "auc : 0.8567404608161743\n",
      "acc : 0.8005015412354292\n",
      "precision : 0.8169686615302898\n",
      "recall : 0.8963561536844002\n",
      "AUC LGB2:None \n",
      "auc : 0.8492390123691622\n",
      "acc : 0.7956239149348272\n",
      "precision : 0.8111890011955222\n",
      "recall : 0.8968428009252306\n",
      "AUC LGB3:None \n",
      "auc : 0.8410676024056041\n",
      "acc : 0.7900612951101698\n",
      "precision : 0.8029784384625687\n",
      "recall : 0.9005737631049295\n",
      "AUC LGB4:None \n",
      "auc : 0.8492084234284374\n",
      "acc : 0.7956514721455651\n",
      "precision : 0.8113247549619192\n",
      "recall : 0.896656553215777\n",
      "AUC LGB5:None \n"
     ]
    }
   ],
   "source": [
    "train_pool = Pool(x_train[FEATS] ,y_train, cat_features = cate_cols)\n",
    "eval_pool = Pool(x_valid[FEATS] , y_valid, cat_features = cate_cols)\n",
    "\n",
    "# num_round? 1000~ 10000\n",
    "model1 = CatBoostClassifier(\n",
    "        iterations = 1500,\n",
    "        random_seed = 42,\n",
    "        learning_rate = 0.003,\n",
    "        loss_function = 'Logloss', \n",
    "        custom_metric = ['Logloss','AUC'],\n",
    "        early_stopping_rounds = 30,\n",
    "        use_best_model =  True,\n",
    "        task_type = \"GPU\",\n",
    "        bagging_temperature = 1,\n",
    "        verbose = False)\n",
    "\n",
    "model2 = CatBoostClassifier(\n",
    "        iterations = 1500,\n",
    "        random_seed = 42,\n",
    "        learning_rate = 0.005,\n",
    "        loss_function = 'Logloss', \n",
    "        custom_metric = ['Logloss','AUC'],\n",
    "        early_stopping_rounds = 30,\n",
    "        use_best_model =  True,\n",
    "        task_type = \"GPU\",\n",
    "        bagging_temperature = 1,\n",
    "        verbose = False)\n",
    "\n",
    "model3 = CatBoostClassifier(\n",
    "        iterations = 1500,\n",
    "        random_seed = 42,\n",
    "        learning_rate = 0.002,\n",
    "        loss_function = 'Logloss', \n",
    "        custom_metric = ['Logloss','AUC'],\n",
    "        early_stopping_rounds = 30,\n",
    "        use_best_model =  True,\n",
    "        task_type = \"GPU\",\n",
    "        bagging_temperature = 1,\n",
    "        verbose = False)\n",
    "\n",
    "model4 = CatBoostClassifier(\n",
    "        iterations = 1500,\n",
    "        random_seed = 35,\n",
    "        learning_rate = 0.001,\n",
    "        loss_function = 'Logloss', \n",
    "        custom_metric = ['Logloss','AUC'],\n",
    "        early_stopping_rounds = 30,\n",
    "        use_best_model =  True,\n",
    "        task_type = \"GPU\",\n",
    "        bagging_temperature = 1,\n",
    "        verbose = False)\n",
    "\n",
    "model5 = CatBoostClassifier(\n",
    "        iterations = 1500,\n",
    "        random_seed = 2020,\n",
    "        learning_rate = 0.002,\n",
    "        loss_function = 'Logloss', \n",
    "        custom_metric = ['Logloss','AUC'],\n",
    "        early_stopping_rounds = 30,\n",
    "        use_best_model =  True,\n",
    "        task_type = \"GPU\",\n",
    "        bagging_temperature = 1,\n",
    "        verbose = False)\n",
    "\n",
    "\n",
    "\n",
    "model1.fit(train_pool, eval_set=eval_pool,plot=True)\n",
    "model2.fit(train_pool, eval_set=eval_pool,plot=True)\n",
    "model3.fit(train_pool, eval_set=eval_pool,plot=True)\n",
    "model4.fit(train_pool, eval_set=eval_pool,plot=True)\n",
    "model5.fit(train_pool, eval_set=eval_pool,plot=True)\n",
    "\n",
    "test_preds1 = model1.predict(test[FEATS], prediction_type='Probability')[:,1]\n",
    "test_preds2 = model2.predict(test[FEATS], prediction_type='Probability')[:,1]\n",
    "test_preds3 = model3.predict(test[FEATS], prediction_type='Probability')[:,1]\n",
    "test_preds4 = model4.predict(test[FEATS], prediction_type='Probability')[:,1]\n",
    "test_preds5 = model5.predict(test[FEATS], prediction_type='Probability')[:,1]\n",
    "\n",
    "valid_preds1 = model1.predict(x_valid[FEATS], prediction_type='Probability')[:,1]\n",
    "valid_preds2 = model2.predict(x_valid[FEATS], prediction_type='Probability')[:,1]\n",
    "valid_preds3 = model3.predict(x_valid[FEATS], prediction_type='Probability')[:,1]\n",
    "valid_preds4 = model4.predict(x_valid[FEATS], prediction_type='Probability')[:,1]\n",
    "valid_preds5 = model5.predict(x_valid[FEATS], prediction_type='Probability')[:,1]\n",
    "\n",
    "\n",
    "# print('Fold no: {}'.format(fold_))\n",
    "print(\"AUC LGB1:{} \".format(get_metric(y_valid, valid_preds1)))\n",
    "print(\"AUC LGB2:{} \".format(get_metric(y_valid, valid_preds2)))\n",
    "print(\"AUC LGB3:{} \".format(get_metric(y_valid, valid_preds3)))\n",
    "print(\"AUC LGB4:{} \".format(get_metric(y_valid, valid_preds4)))\n",
    "print(\"AUC LGB5:{} \".format(get_metric(y_valid, valid_preds5))) "
   ]
  },
  {
   "cell_type": "code",
   "execution_count": 45,
   "id": "2dcf3a85",
   "metadata": {},
   "outputs": [],
   "source": [
    "model1.save_model(f'/opt/ml/level2-dkt-level2-recsys-08/catboost/model_save/catboost_1500_42_0.003_.cbm')\n",
    "model2.save_model(f'/opt/ml/level2-dkt-level2-recsys-08/catboost/model_save/catboost_1500_42_0.005.cbm')\n",
    "model3.save_model(f'/opt/ml/level2-dkt-level2-recsys-08/catboost/model_save/catboost_1500_42_0.002.cbm')\n",
    "model4.save_model(f'/opt/ml/level2-dkt-level2-recsys-08/catboost/model_save/catboost_1500_35_0.001.cbm')\n",
    "model5.save_model(f'/opt/ml/level2-dkt-level2-recsys-08/catboost/model_save/catboost_1500_2020_0.002.cbm')\n"
   ]
  },
  {
   "cell_type": "code",
   "execution_count": 23,
   "id": "8968516c",
   "metadata": {},
   "outputs": [],
   "source": [
    "model6 = CatBoostClassifier().load_model(f'/opt/ml/level2-dkt-level2-recsys-08/catboost/model_save/catboost_3000_42_0.002_.cbm')\n",
    "model7 = CatBoostClassifier().load_model(f'/opt/ml/level2-dkt-level2-recsys-08/catboost/model_save/catboost_3000_42_0.005.cbm')\n",
    "model8 = CatBoostClassifier().load_model(f'/opt/ml/level2-dkt-level2-recsys-08/catboost/model_save/catboost_3000_42_0.001.cbm')\n",
    "model9 = CatBoostClassifier().load_model(f'/opt/ml/level2-dkt-level2-recsys-08/catboost/model_save/catboost_3000_35_0.003.cbm')\n",
    "model10 = CatBoostClassifier().load_model(f'/opt/ml/level2-dkt-level2-recsys-08/catboost/model_save/catboost_3000_2020_0.001.cbm')\n",
    "\n",
    "model11 = CatBoostClassifier().load_model(f'/opt/ml/level2-dkt-level2-recsys-08/catboost/model_save/catboost_1500_42_0.003_.cbm')\n",
    "model12 = CatBoostClassifier().load_model(f'/opt/ml/level2-dkt-level2-recsys-08/catboost/model_save/catboost_1500_42_0.005.cbm')\n",
    "model13 = CatBoostClassifier().load_model(f'/opt/ml/level2-dkt-level2-recsys-08/catboost/model_save/catboost_1500_42_0.002.cbm')\n",
    "model14 = CatBoostClassifier().load_model(f'/opt/ml/level2-dkt-level2-recsys-08/catboost/model_save/catboost_1500_35_0.001.cbm')\n",
    "model15 = CatBoostClassifier().load_model(f'/opt/ml/level2-dkt-level2-recsys-08/catboost/model_save/catboost_1500_2020_0.002.cbm')"
   ]
  },
  {
   "cell_type": "code",
   "execution_count": 34,
   "id": "90c44f8d",
   "metadata": {},
   "outputs": [],
   "source": [
    "valid_preds6 = model6.predict(x_valid[FEATS], prediction_type='Probability')[:,1]\n",
    "valid_preds7 = model7.predict(x_valid[FEATS], prediction_type='Probability')[:,1]\n",
    "valid_preds8 = model8.predict(x_valid[FEATS], prediction_type='Probability')[:,1]\n",
    "valid_preds9 = model9.predict(x_valid[FEATS], prediction_type='Probability')[:,1]\n",
    "valid_preds10 = model10.predict(x_valid[FEATS], prediction_type='Probability')[:,1]\n",
    "\n",
    "test_preds6 = model6.predict(test[FEATS], prediction_type='Probability')[:,1]\n",
    "test_preds7 = model7.predict(test[FEATS], prediction_type='Probability')[:,1]\n",
    "test_preds8 = model8.predict(test[FEATS], prediction_type='Probability')[:,1]\n",
    "test_preds9 = model9.predict(test[FEATS], prediction_type='Probability')[:,1]\n",
    "test_preds10 = model10.predict(test[FEATS], prediction_type='Probability')[:,1]"
   ]
  },
  {
   "cell_type": "code",
   "execution_count": 38,
   "id": "6882bc5d",
   "metadata": {},
   "outputs": [],
   "source": [
    "new_valid = x_valid[FEATS].copy()\n",
    "new_valid.loc[:,'predict1'] = valid_preds1\n",
    "new_valid.loc[:,'predict2'] = valid_preds2\n",
    "new_valid.loc[:,'predict3'] = valid_preds3\n",
    "new_valid.loc[:,'predict4'] = valid_preds4\n",
    "new_valid.loc[:,'predict5'] = valid_preds5\n",
    "new_valid.loc[:,'predict6'] = valid_preds6\n",
    "new_valid.loc[:,'predict7'] = valid_preds7\n",
    "new_valid.loc[:,'predict8'] = valid_preds8\n",
    "new_valid.loc[:,'predict9'] = valid_preds9\n",
    "new_valid.loc[:,'predict10'] = valid_preds10\n",
    "\n",
    "\n",
    "valid_tail = new_valid[new_valid.index.isin(x_valid.groupby('userID').tail(1).index)==True]\n",
    "new_valid = new_valid[new_valid.index.isin(x_valid.groupby('userID').tail(1).index)==False]\n",
    "\n",
    "new_test = test[FEATS].copy()\n",
    "new_test.loc[:,'predict1'] = test_preds1\n",
    "new_test.loc[:,'predict2'] = test_preds2\n",
    "new_test.loc[:,'predict3'] = test_preds3\n",
    "new_test.loc[:,'predict4'] = test_preds4\n",
    "new_test.loc[:,'predict5'] = test_preds5\n",
    "new_test.loc[:,'predict6'] = test_preds6\n",
    "new_test.loc[:,'predict7'] = test_preds7\n",
    "new_test.loc[:,'predict8'] = test_preds8\n",
    "new_test.loc[:,'predict9'] = test_preds9\n",
    "new_test.loc[:,'predict10'] = test_preds10\n",
    "\n",
    "pred_FEATS = [\n",
    "        'predict1',\n",
    "        'predict2',\n",
    "        'predict3',\n",
    "        'predict4',\n",
    "        'predict5',\n",
    "        'predict6',\n",
    "        'predict7',\n",
    "        'predict8',\n",
    "        'predict9',\n",
    "        'predict10',\n",
    "            ]\n",
    "NEW_FEATS = FEATS +pred_FEATS\n",
    "        "
   ]
  },
  {
   "cell_type": "code",
   "execution_count": 43,
   "id": "e8327116-8598-4455-b695-9d18c7e88675",
   "metadata": {},
   "outputs": [
    {
     "name": "stdout",
     "output_type": "stream",
     "text": [
      "auc : 0.8594834065679926\n",
      "acc : 0.7795698924731183\n",
      "precision : 0.788135593220339\n",
      "recall : 0.7581521739130435\n"
     ]
    }
   ],
   "source": [
    "y_tail = y_valid[y_valid.index.isin(x_valid.groupby('userID').tail(1).index)==True]\n",
    "y_new_valid = y_valid[y_valid.index.isin(x_valid.groupby('userID').tail(1).index)==False]\n",
    "\n",
    "train_pool = Pool(new_valid[pred_FEATS] ,y_new_valid)#, cat_features = cate_cols)\n",
    "eval_pool = Pool(valid_tail[pred_FEATS] , y_tail)#, cat_features = cate_cols)\n",
    "\n",
    "\n",
    "Final_cat = CatBoostClassifier(\n",
    "            iterations = 3000,\n",
    "            random_seed = 42,\n",
    "            learning_rate = 0.001,\n",
    "            loss_function = 'Logloss', \n",
    "            custom_metric = ['Logloss','AUC'],\n",
    "            early_stopping_rounds = 30,\n",
    "            use_best_model =  True,\n",
    "            task_type = \"GPU\",\n",
    "            bagging_temperature = 1,\n",
    "            verbose = False)\n",
    "\n",
    "Final_cat.fit(train_pool, eval_set=eval_pool, plot=True)\n",
    "\n",
    "Final_valid_preds = Final_cat.predict(valid_tail[pred_FEATS] , prediction_type='Probability')[:,1]\n",
    "Final_test_preds = Final_cat.predict(new_test[pred_FEATS], prediction_type='Probability')[:,1]\n",
    "\n",
    "\n",
    "# print('Fold no: {}'.format(fold_))\n",
    "get_metric(y_tail, Final_valid_preds)"
   ]
  },
  {
   "cell_type": "code",
   "execution_count": 44,
   "id": "4e9d7861-8ecc-4520-81bf-6d930f32a634",
   "metadata": {},
   "outputs": [],
   "source": [
    "from datetime import date, datetime, timezone, timedelta\n",
    "\n",
    "KST = timezone(timedelta(hours=9))\n",
    "time_record = datetime.now(KST)\n",
    "_day = str(time_record)[:10]\n",
    "_time = str(time_record.time())[:8]\n",
    "now_time = _day+'_'+_time\n",
    "\n",
    "test_to_csv(Final_test_preds,f'belnding_catboost_{now_time}')"
   ]
  },
  {
   "cell_type": "code",
   "execution_count": null,
   "id": "2cf5517b",
   "metadata": {},
   "outputs": [],
   "source": []
  }
 ],
 "metadata": {
  "kernelspec": {
   "display_name": "Python 3 (ipykernel)",
   "language": "python",
   "name": "python3"
  },
  "language_info": {
   "codemirror_mode": {
    "name": "ipython",
    "version": 3
   },
   "file_extension": ".py",
   "mimetype": "text/x-python",
   "name": "python",
   "nbconvert_exporter": "python",
   "pygments_lexer": "ipython3",
   "version": "3.8.5"
  }
 },
 "nbformat": 4,
 "nbformat_minor": 5
}
