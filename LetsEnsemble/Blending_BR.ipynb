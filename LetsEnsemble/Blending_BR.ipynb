{
 "cells": [
  {
   "cell_type": "code",
   "execution_count": null,
   "id": "92d257cd-824a-4921-8b21-c14bada43824",
   "metadata": {},
   "outputs": [],
   "source": [
    "# https://www.kaggle.com/code/sarmat/lgbm-stacking-example/notebook"
   ]
  },
  {
   "cell_type": "code",
   "execution_count": 1,
   "id": "e1cc2c9a-80ee-4932-b759-7f49c34b9ee2",
   "metadata": {},
   "outputs": [],
   "source": [
    "import numpy as np # linear algebra\n",
    "import pandas as pd\n",
    "import random\n",
    "from scipy.sparse.linalg import svds\n",
    "\n",
    "from sklearn import metrics\n",
    "from sklearn.model_selection import cross_val_score, KFold\n",
    "from sklearn.model_selection import train_test_split\n",
    "from sklearn.linear_model import LogisticRegression, ElasticNet\n",
    "\n",
    "import torch\n",
    "from tqdm import tqdm\n",
    "from dataset import custom_train_test_split, make_dataset\n",
    "\n",
    "from sklearn.metrics import RocCurveDisplay, accuracy_score, roc_auc_score, precision_score, recall_score, f1_score, roc_curve, auc\n",
    "\n",
    "\n",
    "def get_metric(targets, preds):\n",
    "    auc = roc_auc_score(targets, preds)\n",
    "    acc = accuracy_score(targets, np.where(preds >= 0.5, 1, 0))\n",
    "    precsion = precision_score(targets, np.where(preds >= 0.5, 1, 0))\n",
    "    recall = recall_score(targets, np.where(preds >= 0.5, 1, 0))\n",
    "    F1_score = f1_score(targets, np.where(preds >= 0.5, 1, 0))\n",
    "\n",
    "    print('auc :',auc)\n",
    "    print('acc :',acc)\n",
    "    print('precision :',precsion)\n",
    "    print('recall :',recall)\n",
    "\n",
    "def test_to_csv(preds, name:str):\n",
    "    \n",
    "    result = []\n",
    "    for n,i in enumerate(preds):\n",
    "        row = {}    \n",
    "        row['id'] = n\n",
    "        row['prediction'] = i\n",
    "        result.append(row)\n",
    "    pd.DataFrame(result).to_csv(f'output/{name}.csv', index=None)\n",
    "    \n"
   ]
  },
  {
   "cell_type": "code",
   "execution_count": 5,
   "id": "e2a8d7ab",
   "metadata": {},
   "outputs": [],
   "source": [
    "t = pd.read_pickle('/opt/ml/level2-dkt-level2-recsys-08/data_pkl/test_data-1.pkl')\n",
    "test_to_csv(t[t.answerCode==-1].elo_prob, 'elo_prob')"
   ]
  },
  {
   "cell_type": "code",
   "execution_count": 2,
   "id": "869464d7",
   "metadata": {},
   "outputs": [],
   "source": [
    "cate_cols = [\n",
    "            # 'assessmentItemID',\n",
    "            # 'testId',\n",
    "            # 'KnowledgeTag',\n",
    "            'hour',\n",
    "            'dow',\n",
    "            'i_head',\n",
    "            'i_mid',\n",
    "            'i_tail',\n",
    "]\n",
    "cont_cols = [                        \n",
    "            'user_correct_answer',\n",
    "            'user_total_answer',\n",
    "            'user_acc',            \n",
    "            't_elapsed',            \n",
    "            'cum_correct',\n",
    "            'last_problem',\n",
    "            'head_term',\n",
    "            # 'left_asymptote',\n",
    "            'elo_prob',\n",
    "            'pkt',\n",
    "            'u_head_mean',\n",
    "            'u_head_count',\n",
    "            'u_head_std',\n",
    "            'u_head_elapsed',\n",
    "            'i_mid_elapsed',\n",
    "            'i_mid_mean',\n",
    "            'i_mid_std',\n",
    "            'i_mid_sum',\n",
    "            'i_mid_count',\n",
    "            'i_mid_tag_count',\n",
    "            'assessment_mean',\n",
    "            'assessment_sum',\n",
    "            # 'assessment_std',\n",
    "            'tag_mean',\n",
    "            'tag_sum',\n",
    "            # 'tag_std',\n",
    "            'tail_mean',\n",
    "            'tail_sum',\n",
    "            # 'tail_std',\n",
    "            'hour_mean',\n",
    "            'hour_sum',\n",
    "            # 'hour_std',\n",
    "            'dow_mean',\n",
    "            'dow_sum',\n",
    "            # 'dow_std',\n",
    "            'tag_elapsed',\n",
    "            'tag_elapsed_o',\n",
    "            'tag_elapsed_x',\n",
    "            'assessment_elapsed',\n",
    "            'assessment_elapsed_o',\n",
    "            'assessment_elapsed_x',\n",
    "            'tail_elapsed',\n",
    "            'tail_elapsed_o',\n",
    "            'tail_elapsed_x'\n",
    "            ]\n",
    "\n",
    "FEATS = cate_cols + cont_cols"
   ]
  },
  {
   "cell_type": "code",
   "execution_count": 14,
   "id": "ebc46bf5",
   "metadata": {},
   "outputs": [],
   "source": [
    "model01 = ElasticNet(max_iter=2000, alpha= 0.4, fit_intercept= True)\n",
    "model02 = ElasticNet(max_iter=2000, alpha= 0.4, l1_ratio=0.1)\n",
    "model03 = ElasticNet(max_iter=2000, alpha= 0.4, l1_ratio=0.9)\n",
    "model04 = ElasticNet(max_iter=2000, alpha= 0.6, fit_intercept= True)\n",
    "model05 = ElasticNet(max_iter=2000, alpha= 0.6, l1_ratio=0.1)\n",
    "model06 = ElasticNet(max_iter=2000, alpha= 0.6, l1_ratio=0.9)\n",
    "model07 = ElasticNet(max_iter=2000, alpha= 0.6)\n",
    "model08 = ElasticNet(max_iter=2000, alpha= 0.8, fit_intercept= True)\n",
    "model09 = ElasticNet(max_iter=2000, alpha= 0.8, l1_ratio=0.1)\n",
    "model10 = ElasticNet(max_iter=2000, alpha= 0.8, l1_ratio=0.9)"
   ]
  },
  {
   "cell_type": "code",
   "execution_count": 15,
   "id": "5fe66476",
   "metadata": {},
   "outputs": [],
   "source": [
    "data = pd.read_pickle('/opt/ml/level2-dkt-level2-recsys-08/data_pkl/all.pkl')\n",
    "label = data.answerCode.to_numpy()\n",
    "\n",
    "valid = pd.read_csv('/opt/ml/input/data/cv_valid_data.csv')\n",
    "valid_index = valid[valid.answerCode==-1].index\n",
    "\n",
    "X_train = data[data.index.isin(valid_index)==False]\n",
    "y_train = X_train.answerCode.to_numpy()\n",
    "\n",
    "X_valid = data[data.index.isin(valid_index)==True]\n",
    "y_valid = X_valid.answerCode.to_numpy()"
   ]
  },
  {
   "cell_type": "code",
   "execution_count": 16,
   "id": "92186f7f",
   "metadata": {},
   "outputs": [
    {
     "data": {
      "text/plain": [
       "ElasticNet(alpha=0.8, l1_ratio=0.9, max_iter=2000)"
      ]
     },
     "execution_count": 16,
     "metadata": {},
     "output_type": "execute_result"
    }
   ],
   "source": [
    "model01.fit(X_train[FEATS], y_train)\n",
    "model02.fit(X_train[FEATS], y_train)\n",
    "model03.fit(X_train[FEATS], y_train)\n",
    "model04.fit(X_train[FEATS], y_train)\n",
    "model05.fit(X_train[FEATS], y_train)\n",
    "model06.fit(X_train[FEATS], y_train)\n",
    "model07.fit(X_train[FEATS], y_train)\n",
    "model08.fit(X_train[FEATS], y_train)\n",
    "model09.fit(X_train[FEATS], y_train)\n",
    "model10.fit(X_train[FEATS], y_train)"
   ]
  },
  {
   "cell_type": "code",
   "execution_count": 17,
   "id": "c404f1b8-04c6-49bf-843b-3f3485fd513a",
   "metadata": {},
   "outputs": [
    {
     "name": "stdout",
     "output_type": "stream",
     "text": [
      "auc : 0.7923155162738496\n",
      "acc : 0.7634408602150538\n",
      "precision : 0.8055555555555556\n",
      "recall : 0.8787878787878788\n",
      "AUC ELASTIC 1:None \n",
      "auc : 0.7936307519640853\n",
      "acc : 0.7594086021505376\n",
      "precision : 0.8066783831282952\n",
      "recall : 0.8693181818181818\n",
      "AUC ELASTIC 2:None \n",
      "auc : 0.7918069584736251\n",
      "acc : 0.7782258064516129\n",
      "precision : 0.8071065989847716\n",
      "recall : 0.9034090909090909\n",
      "AUC ELASTIC 3:None \n",
      "auc : 0.7922979797979798\n",
      "acc : 0.771505376344086\n",
      "precision : 0.8086206896551724\n",
      "recall : 0.8882575757575758\n",
      "AUC ELASTIC 4:None \n",
      "auc : 0.7931134259259259\n",
      "acc : 0.7634408602150538\n",
      "precision : 0.8109540636042403\n",
      "recall : 0.8693181818181818\n",
      "AUC ELASTIC 5:None \n",
      "auc : 0.790518027497194\n",
      "acc : 0.7741935483870968\n",
      "precision : 0.7970297029702971\n",
      "recall : 0.9147727272727273\n",
      "AUC ELASTIC 6:None \n",
      "auc : 0.7922979797979798\n",
      "acc : 0.771505376344086\n",
      "precision : 0.8086206896551724\n",
      "recall : 0.8882575757575758\n",
      "AUC ELASTIC 7:None \n",
      "auc : 0.7913685465768799\n",
      "acc : 0.7795698924731183\n",
      "precision : 0.8063973063973064\n",
      "recall : 0.9071969696969697\n",
      "AUC ELASTIC 8:None \n",
      "auc : 0.7925522586980921\n",
      "acc : 0.7688172043010753\n",
      "precision : 0.8122807017543859\n",
      "recall : 0.8768939393939394\n",
      "AUC ELASTIC 9:None \n",
      "auc : 0.7888608305274972\n",
      "acc : 0.7688172043010753\n",
      "precision : 0.7899022801302932\n",
      "recall : 0.9185606060606061\n",
      "AUC ELASTIC 0:None \n"
     ]
    }
   ],
   "source": [
    "valid_predict01 = model01.predict(X_valid[FEATS])\n",
    "valid_predict02 = model02.predict(X_valid[FEATS])\n",
    "valid_predict03 = model03.predict(X_valid[FEATS])\n",
    "valid_predict04 = model04.predict(X_valid[FEATS])\n",
    "valid_predict05 = model05.predict(X_valid[FEATS])\n",
    "valid_predict06 = model06.predict(X_valid[FEATS])\n",
    "valid_predict07 = model07.predict(X_valid[FEATS])\n",
    "valid_predict08 = model08.predict(X_valid[FEATS])\n",
    "valid_predict09 = model09.predict(X_valid[FEATS])\n",
    "valid_predict10 = model10.predict(X_valid[FEATS])\n",
    "\n",
    "# item_id2idx는 train에서 사용한 것을 다시 사용한다.\n",
    "test = pd.read_pickle('/opt/ml/level2-dkt-level2-recsys-08/data_pkl/test_data-1.pkl')\n",
    "test = test[test.answerCode==-1]\n",
    "\n",
    "test_predict01 = model01.predict(test[FEATS])\n",
    "test_predict02 = model02.predict(test[FEATS])\n",
    "test_predict03 = model03.predict(test[FEATS])\n",
    "test_predict04 = model04.predict(test[FEATS])\n",
    "test_predict05 = model05.predict(test[FEATS])\n",
    "test_predict06 = model06.predict(test[FEATS])\n",
    "test_predict07 = model07.predict(test[FEATS])\n",
    "test_predict08 = model08.predict(test[FEATS])\n",
    "test_predict09 = model09.predict(test[FEATS])\n",
    "test_predict10 = model10.predict(test[FEATS])\n",
    "\n",
    "\n",
    "print(\"AUC ELASTIC 1:{} \".format(get_metric(y_valid, np.array(valid_predict01))))\n",
    "print(\"AUC ELASTIC 2:{} \".format(get_metric(y_valid, np.array(valid_predict02))))\n",
    "print(\"AUC ELASTIC 3:{} \".format(get_metric(y_valid, np.array(valid_predict03))))\n",
    "print(\"AUC ELASTIC 4:{} \".format(get_metric(y_valid, np.array(valid_predict04))))\n",
    "print(\"AUC ELASTIC 5:{} \".format(get_metric(y_valid, np.array(valid_predict05))))\n",
    "print(\"AUC ELASTIC 6:{} \".format(get_metric(y_valid, np.array(valid_predict06))))\n",
    "print(\"AUC ELASTIC 7:{} \".format(get_metric(y_valid, np.array(valid_predict07))))\n",
    "print(\"AUC ELASTIC 8:{} \".format(get_metric(y_valid, np.array(valid_predict08))))\n",
    "print(\"AUC ELASTIC 9:{} \".format(get_metric(y_valid, np.array(valid_predict09))))\n",
    "print(\"AUC ELASTIC 0:{} \".format(get_metric(y_valid, np.array(valid_predict10))))"
   ]
  },
  {
   "cell_type": "code",
   "execution_count": 18,
   "id": "3adde4d6",
   "metadata": {},
   "outputs": [],
   "source": [
    "new_valid = X_valid[FEATS].copy()\n",
    "new_valid.loc[:,'predict01'] = valid_predict01\n",
    "valid_predict01\n",
    "new_valid.loc[:,'predict02'] = valid_predict02\n",
    "new_valid.loc[:,'predict03'] = valid_predict03\n",
    "new_valid.loc[:,'predict04'] = valid_predict04\n",
    "new_valid.loc[:,'predict05'] = valid_predict05\n",
    "new_valid.loc[:,'predict06'] = valid_predict06\n",
    "new_valid.loc[:,'predict07'] = valid_predict07\n",
    "new_valid.loc[:,'predict08'] = valid_predict08\n",
    "new_valid.loc[:,'predict09'] = valid_predict09\n",
    "new_valid.loc[:,'predict10'] = valid_predict10\n",
    "\n",
    "\n",
    "# valid_tail = new_valid[new_valid.index.isin(X_valid.groupby('userID').tail(1).index)==True]\n",
    "# new_valid = new_valid[new_valid.index.isin(X_valid.groupby('userID').tail(1).index)==False]\n",
    "\n",
    "new_test = test[FEATS].copy()\n",
    "new_test.loc[:,'predict01'] = test_predict01\n",
    "new_test.loc[:,'predict02'] = test_predict02\n",
    "new_test.loc[:,'predict03'] = test_predict03\n",
    "new_test.loc[:,'predict04'] = test_predict04\n",
    "new_test.loc[:,'predict05'] = test_predict05\n",
    "new_test.loc[:,'predict06'] = test_predict06\n",
    "new_test.loc[:,'predict07'] = test_predict07\n",
    "new_test.loc[:,'predict08'] = test_predict08\n",
    "new_test.loc[:,'predict09'] = test_predict09\n",
    "new_test.loc[:,'predict10'] = test_predict10"
   ]
  },
  {
   "cell_type": "code",
   "execution_count": 19,
   "id": "a9839547",
   "metadata": {},
   "outputs": [
    {
     "data": {
      "text/plain": [
       "ElasticNet(alpha=0.7)"
      ]
     },
     "execution_count": 19,
     "metadata": {},
     "output_type": "execute_result"
    }
   ],
   "source": [
    "Final = ElasticNet(alpha=0.7)\n",
    "Final.fit(new_valid, y_valid)"
   ]
  },
  {
   "cell_type": "code",
   "execution_count": 20,
   "id": "c5c2bf29",
   "metadata": {},
   "outputs": [],
   "source": [
    "preds = Final.predict(new_test)"
   ]
  },
  {
   "cell_type": "code",
   "execution_count": 21,
   "id": "99c91d64",
   "metadata": {},
   "outputs": [],
   "source": [
    "from datetime import date, datetime, timezone, timedelta\n",
    "\n",
    "KST = timezone(timedelta(hours=9))\n",
    "time_record = datetime.now(KST)\n",
    "_day = str(time_record)[:10]\n",
    "_time = str(time_record.time())[:8]\n",
    "now_time = _day+'_'+_time\n",
    "\n",
    "\n",
    "test_to_csv(preds, f'Blending_Elastic_{now_time}')"
   ]
  },
  {
   "cell_type": "code",
   "execution_count": 23,
   "id": "28df509b",
   "metadata": {},
   "outputs": [],
   "source": [
    "test_to_csv(test_predict01, 'Elastic01')\n",
    "test_to_csv(test_predict02, 'Elastic02')\n",
    "test_to_csv(test_predict03, 'Elastic03')\n",
    "test_to_csv(test_predict04, 'Elastic04')\n",
    "test_to_csv(test_predict05, 'Elastic05')\n",
    "test_to_csv(test_predict06, 'Elastic06')\n",
    "test_to_csv(test_predict07, 'Elastic07')\n",
    "test_to_csv(test_predict08, 'Elastic08')\n",
    "test_to_csv(test_predict09, 'Elastic09')\n",
    "test_to_csv(test_predict10, 'Elastic10')"
   ]
  },
  {
   "cell_type": "code",
   "execution_count": null,
   "id": "65c8f83e",
   "metadata": {},
   "outputs": [],
   "source": []
  }
 ],
 "metadata": {
  "kernelspec": {
   "display_name": "Python 3 (ipykernel)",
   "language": "python",
   "name": "python3"
  },
  "language_info": {
   "codemirror_mode": {
    "name": "ipython",
    "version": 3
   },
   "file_extension": ".py",
   "mimetype": "text/x-python",
   "name": "python",
   "nbconvert_exporter": "python",
   "pygments_lexer": "ipython3",
   "version": "3.8.5"
  }
 },
 "nbformat": 4,
 "nbformat_minor": 5
}
