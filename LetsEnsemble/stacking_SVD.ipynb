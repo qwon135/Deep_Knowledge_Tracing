{
 "cells": [
  {
   "cell_type": "code",
   "execution_count": 5,
   "id": "92d257cd-824a-4921-8b21-c14bada43824",
   "metadata": {},
   "outputs": [],
   "source": [
    "# https://www.kaggle.com/code/sarmat/lgbm-stacking-example/notebook"
   ]
  },
  {
   "cell_type": "code",
   "execution_count": 1,
   "id": "e1cc2c9a-80ee-4932-b759-7f49c34b9ee2",
   "metadata": {},
   "outputs": [],
   "source": [
    "import numpy as np # linear algebra\n",
    "import pandas as pd\n",
    "import random\n",
    "from scipy.sparse.linalg import svds\n",
    "import os\n",
    "\n",
    "from sklearn import metrics\n",
    "from sklearn.model_selection import cross_val_score, KFold\n",
    "from sklearn.model_selection import train_test_split\n",
    "\n",
    "import torch\n",
    "from tqdm import tqdm\n",
    "from dataset import custom_train_test_split, make_dataset\n",
    "\n",
    "from sklearn.metrics import RocCurveDisplay, accuracy_score, roc_auc_score, precision_score, recall_score, f1_score, roc_curve, auc\n",
    "\n",
    "\n",
    "def get_metric(targets, preds):\n",
    "    auc = roc_auc_score(targets, preds)\n",
    "    acc = accuracy_score(targets, np.where(preds >= 0.5, 1, 0))\n",
    "    precsion = precision_score(targets, np.where(preds >= 0.5, 1, 0))\n",
    "    recall = recall_score(targets, np.where(preds >= 0.5, 1, 0))\n",
    "    F1_score = f1_score(targets, np.where(preds >= 0.5, 1, 0))\n",
    "\n",
    "    print('auc :',auc)\n",
    "    print('acc :',acc)\n",
    "    print('precision :',precsion)\n",
    "    print('recall :',recall)\n",
    "\n",
    "def test_to_csv(preds, name:str):\n",
    "    \n",
    "    result = []\n",
    "    for n,i in enumerate(preds):\n",
    "        row = {}    \n",
    "        row['id'] = n\n",
    "        row['prediction'] = i\n",
    "        result.append(row)\n",
    "    pd.DataFrame(result).to_csv(f'output/{name}.csv', index=None)\n",
    "    \n"
   ]
  },
  {
   "cell_type": "code",
   "execution_count": 2,
   "id": "bbfda087",
   "metadata": {},
   "outputs": [],
   "source": [
    "train_data = pd.read_csv('/opt/ml/input/data/train_data.csv')\n",
    "test_data  = pd.read_csv('/opt/ml/input/data/test_data.csv')"
   ]
  },
  {
   "cell_type": "code",
   "execution_count": 3,
   "id": "ddcb5a82",
   "metadata": {},
   "outputs": [],
   "source": [
    "train_data.drop_duplicates(subset = [\"userID\", \"assessmentItemID\"], keep = \"last\", inplace = True)\n",
    "train_data.drop(['Timestamp','testId','KnowledgeTag'], axis=1, inplace=True, errors='ignore')"
   ]
  },
  {
   "cell_type": "code",
   "execution_count": 4,
   "id": "6b5f7b46",
   "metadata": {},
   "outputs": [],
   "source": [
    "matrix_train = train_data.pivot_table('answerCode', index='userID', columns='assessmentItemID')\n",
    "matrix_train.fillna(0.5, inplace=True)"
   ]
  },
  {
   "cell_type": "code",
   "execution_count": 5,
   "id": "c459f8af",
   "metadata": {},
   "outputs": [],
   "source": [
    "user_id2idx = {v:i for i,v in enumerate(matrix_train.index)}\n",
    "user_idx2id = {i:v for i,v in enumerate(matrix_train.index)}\n",
    "\n",
    "item_id2idx = {v:i for i,v in enumerate(matrix_train.columns)}\n",
    "item_idx2id = {i:v for i,v in enumerate(matrix_train.columns)}"
   ]
  },
  {
   "cell_type": "code",
   "execution_count": 9,
   "id": "713964ec",
   "metadata": {},
   "outputs": [],
   "source": [
    "def predict(matrix, userid, itemid, user_id2idx, item_id2idx, k):\n",
    "    A = matrix_train.values\n",
    "    a_mean = np.mean(A, axis=1)\n",
    "    Am = A - a_mean.reshape(-1,1)\n",
    "\n",
    "    U, sigma, V = svds(Am, k=k)\n",
    "    \n",
    "    Sigma = np.diag(sigma)\n",
    "    Sigma_i = np.diag(1/sigma)\n",
    "    pred_matrix = V.T @ Sigma_i @ Sigma @ V\n",
    "    \n",
    "    B = matrix\n",
    "    B_mean = np.mean(B, axis=1)\n",
    "    Bm = B - B_mean.reshape(-1,1)\n",
    "\n",
    "    B_pred =  B @ pred_matrix + B_mean.reshape(-1,1)\n",
    "\n",
    "    ret = [B_pred[user_id2idx[u], item_id2idx[i]] for u,i in zip(userid, itemid)]\n",
    "    return ret"
   ]
  },
  {
   "cell_type": "code",
   "execution_count": 38,
   "id": "c404f1b8-04c6-49bf-843b-3f3485fd513a",
   "metadata": {
    "collapsed": true,
    "jupyter": {
     "outputs_hidden": true
    },
    "tags": []
   },
   "outputs": [
    {
     "name": "stdout",
     "output_type": "stream",
     "text": [
      "auc : 0.809582539643665\n",
      "acc : 0.7753890487644528\n",
      "precision : 0.7896275271914682\n",
      "recall : 0.8958995463967077\n",
      "AUC SVD01:None \n",
      "auc : 0.8110194269747696\n",
      "acc : 0.7762787529968467\n",
      "precision : 0.7907709611017975\n",
      "recall : 0.8955150349965454\n",
      "AUC SVD02:None \n",
      "auc : 0.8132519611518163\n",
      "acc : 0.7780463512284611\n",
      "precision : 0.7924289684416365\n",
      "recall : 0.895959626302983\n",
      "AUC SVD03:None \n",
      "auc : 0.8160304483911209\n",
      "acc : 0.7798336331820311\n",
      "precision : 0.7944299696829228\n",
      "recall : 0.8957974105560396\n",
      "AUC SVD04:None \n",
      "auc : 0.8177256284819437\n",
      "acc : 0.7806249188046469\n",
      "precision : 0.7953163341512856\n",
      "recall : 0.8957313226591367\n",
      "AUC SVD05:None \n",
      "auc : 0.8191915662575665\n",
      "acc : 0.7816366621131656\n",
      "precision : 0.796379679629956\n",
      "recall : 0.8957853945747845\n",
      "AUC SVD06:None \n",
      "auc : 0.8204886614668208\n",
      "acc : 0.7823610230811323\n",
      "precision : 0.7972775653197123\n",
      "recall : 0.8955691069121933\n",
      "AUC SVD07:None \n",
      "auc : 0.8224968640301832\n",
      "acc : 0.7836325915194652\n",
      "precision : 0.7985453532713483\n",
      "recall : 0.8957793865841569\n",
      "AUC SVD08:None \n",
      "auc : 0.8246888705467059\n",
      "acc : 0.7854553041725554\n",
      "precision : 0.8002403059609825\n",
      "recall : 0.896320105740635\n",
      "AUC SVD09:None \n",
      "auc : 0.8262621447947228\n",
      "acc : 0.7863528818937315\n",
      "precision : 0.8016511146368355\n",
      "recall : 0.8955210429871729\n",
      "AUC SVD10:None \n"
     ]
    }
   ],
   "source": [
    "valid_user  = pd.read_csv('/opt/ml/input/data/cv_valid_data.csv').userID.unique()\n",
    "all_train = pd.read_csv('/opt/ml/input/data/all.csv')\n",
    "valid_data = all_train[all_train.userID.isin(valid_user)]\n",
    "userid = sorted(list(set([u for u in valid_data.userID])))\n",
    "user_id2idx_valid = {v:i for i,v in enumerate(userid)}\n",
    "\n",
    "matrix_valid = 0.5*np.ones((len(userid), len(item_id2idx)))\n",
    "for user,item,a in zip(valid_data.userID, valid_data.assessmentItemID, valid_data.answerCode):\n",
    "    user,item = user_id2idx_valid[user],item_id2idx[item]\n",
    "    matrix_valid[user,item] = a\n",
    "\n",
    "valid_predict01 = predict(matrix_valid, valid_data.userID, valid_data.assessmentItemID, user_id2idx_valid, item_id2idx, 30)\n",
    "valid_predict02 = predict(matrix_valid, valid_data.userID, valid_data.assessmentItemID, user_id2idx_valid, item_id2idx, 32)\n",
    "valid_predict03 = predict(matrix_valid, valid_data.userID, valid_data.assessmentItemID, user_id2idx_valid, item_id2idx, 34)\n",
    "valid_predict04 = predict(matrix_valid, valid_data.userID, valid_data.assessmentItemID, user_id2idx_valid, item_id2idx, 36)\n",
    "valid_predict05 = predict(matrix_valid, valid_data.userID, valid_data.assessmentItemID, user_id2idx_valid, item_id2idx, 38)\n",
    "valid_predict06 = predict(matrix_valid, valid_data.userID, valid_data.assessmentItemID, user_id2idx_valid, item_id2idx, 40)\n",
    "valid_predict07 = predict(matrix_valid, valid_data.userID, valid_data.assessmentItemID, user_id2idx_valid, item_id2idx, 42)\n",
    "valid_predict08 = predict(matrix_valid, valid_data.userID, valid_data.assessmentItemID, user_id2idx_valid, item_id2idx, 44)\n",
    "valid_predict09 = predict(matrix_valid, valid_data.userID, valid_data.assessmentItemID, user_id2idx_valid, item_id2idx, 46)\n",
    "valid_predict10 = predict(matrix_valid, valid_data.userID, valid_data.assessmentItemID, user_id2idx_valid, item_id2idx, 48)\n",
    "\n",
    "# item_id2idx는 train에서 사용한 것을 다시 사용한다.\n",
    "test_data  = pd.read_csv('/opt/ml/input/data/test_data.csv')\n",
    "\n",
    "userid = sorted(list(set([u for u in test_data.userID])))\n",
    "user_id2idx_test = {v:i for i,v in enumerate(userid)}\n",
    "\n",
    "matrix_test = 0.5*np.ones((len(userid), len(item_id2idx)))\n",
    "for user,item,a in zip(test_data.userID, test_data.assessmentItemID, test_data.answerCode):\n",
    "    user,item = user_id2idx_test[user],item_id2idx[item]\n",
    "    matrix_test[user,item] = a\n",
    "\n",
    "test_data = test_data[test_data.answerCode==-1]\n",
    "\n",
    "test_predict01 = predict(matrix_test, test_data.userID, test_data.assessmentItemID, user_id2idx_test, item_id2idx, 30)\n",
    "test_predict02 = predict(matrix_test, test_data.userID, test_data.assessmentItemID, user_id2idx_test, item_id2idx, 32)\n",
    "test_predict03 = predict(matrix_test, test_data.userID, test_data.assessmentItemID, user_id2idx_test, item_id2idx, 34)\n",
    "test_predict04 = predict(matrix_test, test_data.userID, test_data.assessmentItemID, user_id2idx_test, item_id2idx, 36)\n",
    "test_predict05 = predict(matrix_test, test_data.userID, test_data.assessmentItemID, user_id2idx_test, item_id2idx, 38)\n",
    "test_predict06 = predict(matrix_test, test_data.userID, test_data.assessmentItemID, user_id2idx_test, item_id2idx, 40)\n",
    "test_predict07 = predict(matrix_test, test_data.userID, test_data.assessmentItemID, user_id2idx_test, item_id2idx, 42)\n",
    "test_predict08 = predict(matrix_test, test_data.userID, test_data.assessmentItemID, user_id2idx_test, item_id2idx, 44)\n",
    "test_predict09 = predict(matrix_test, test_data.userID, test_data.assessmentItemID, user_id2idx_test, item_id2idx, 46)\n",
    "test_predict10 = predict(matrix_test, test_data.userID, test_data.assessmentItemID, user_id2idx_test, item_id2idx, 48)\n",
    "\n",
    "# print('Fold no: {}'.format(fold_))\n",
    "print(\"AUC SVD01:{} \".format(get_metric(valid_data.answerCode.to_numpy(), np.array(valid_predict01))))\n",
    "print(\"AUC SVD02:{} \".format(get_metric(valid_data.answerCode.to_numpy(), np.array(valid_predict02))))\n",
    "print(\"AUC SVD03:{} \".format(get_metric(valid_data.answerCode.to_numpy(), np.array(valid_predict03))))\n",
    "print(\"AUC SVD04:{} \".format(get_metric(valid_data.answerCode.to_numpy(), np.array(valid_predict04))))\n",
    "print(\"AUC SVD05:{} \".format(get_metric(valid_data.answerCode.to_numpy(), np.array(valid_predict05))))\n",
    "print(\"AUC SVD06:{} \".format(get_metric(valid_data.answerCode.to_numpy(), np.array(valid_predict06))))\n",
    "print(\"AUC SVD07:{} \".format(get_metric(valid_data.answerCode.to_numpy(), np.array(valid_predict07))))\n",
    "print(\"AUC SVD08:{} \".format(get_metric(valid_data.answerCode.to_numpy(), np.array(valid_predict08))))\n",
    "print(\"AUC SVD09:{} \".format(get_metric(valid_data.answerCode.to_numpy(), np.array(valid_predict09))))\n",
    "print(\"AUC SVD10:{} \".format(get_metric(valid_data.answerCode.to_numpy(), np.array(valid_predict10))))"
   ]
  },
  {
   "cell_type": "code",
   "execution_count": null,
   "id": "71c33b2f-b2f8-4183-8554-798dd89a3115",
   "metadata": {},
   "outputs": [],
   "source": [
    "test_to_csv( valid_predict01, os.path.join(valid_path, 'SVD_valid01') )\n",
    "test_to_csv( valid_predict02, os.path.join(valid_path, 'SVD_valid02') )\n",
    "test_to_csv( valid_predict03, os.path.join(valid_path, 'SVD_valid03') )\n",
    "test_to_csv( valid_predict04, os.path.join(valid_path, 'SVD_valid04') )\n",
    "test_to_csv( valid_predict05, os.path.join(valid_path, 'SVD_valid05') )\n",
    "test_to_csv( valid_predict06, os.path.join(valid_path, 'SVD_valid06') )\n",
    "test_to_csv( valid_predict07, os.path.join(valid_path, 'SVD_valid07') )\n",
    "test_to_csv( valid_predict08, os.path.join(valid_path, 'SVD_valid08') )\n",
    "test_to_csv( valid_predict09, os.path.join(valid_path, 'SVD_valid09') )\n",
    "test_to_csv( valid_predict10, os.path.join(valid_path, 'SVD_valid10') )\n",
    "\n",
    "test_to_csv( test_predict01, os.path.join(test_path, 'SVD_test01') )\n",
    "test_to_csv( test_predict02, os.path.join(test_path, 'SVD_test02') )\n",
    "test_to_csv( test_predict03, os.path.join(test_path, 'SVD_test03') )\n",
    "test_to_csv( test_predict04, os.path.join(test_path, 'SVD_test04') )\n",
    "test_to_csv( test_predict05, os.path.join(test_path, 'SVD_test05') )\n",
    "test_to_csv( test_predict06, os.path.join(test_path, 'SVD_test06') )\n",
    "test_to_csv( test_predict07, os.path.join(test_path, 'SVD_test07') )\n",
    "test_to_csv( test_predict08, os.path.join(test_path, 'SVD_test08') )\n",
    "test_to_csv( test_predict09, os.path.join(test_path, 'SVD_test09') )\n",
    "test_to_csv( test_predict10, os.path.join(test_path, 'SVD_test10') )"
   ]
  },
  {
   "cell_type": "code",
   "execution_count": 39,
   "id": "a496d655",
   "metadata": {},
   "outputs": [],
   "source": [
    "new_valid = np.array([    \n",
    "                    valid_predict01,\n",
    "                    valid_predict02,\n",
    "                    valid_predict03,\n",
    "                    valid_predict04,\n",
    "                    valid_predict05,\n",
    "                    valid_predict06,\n",
    "                    valid_predict07,\n",
    "                    valid_predict08,\n",
    "                    valid_predict09,\n",
    "                    valid_predict10]).T\n",
    "\n",
    "new_test = np.array([\n",
    "                    test_predict01,\n",
    "                    test_predict02,\n",
    "                    test_predict03,\n",
    "                    test_predict04,\n",
    "                    test_predict05,\n",
    "                    test_predict06,\n",
    "                    test_predict07,\n",
    "                    test_predict08,\n",
    "                    test_predict09,\n",
    "                    test_predict10,]).T"
   ]
  },
  {
   "cell_type": "code",
   "execution_count": 40,
   "id": "f9e5fd4b",
   "metadata": {},
   "outputs": [],
   "source": [
    "val = pd.read_csv('/opt/ml/input/data/cv_valid_data.csv')\n",
    "tail_idx = val.index[val.answerCode==-1].to_numpy()"
   ]
  },
  {
   "cell_type": "code",
   "execution_count": 41,
   "id": "106ded69",
   "metadata": {},
   "outputs": [],
   "source": [
    "y_valid = valid_data.answerCode.to_numpy()\n",
    "\n",
    "valid_tail = [new_valid[i] for i in range(len(new_valid)) if i in tail_idx]\n",
    "y_tail = [y_valid[i] for i in range(len(y_valid)) if i in tail_idx]\n",
    "\n",
    "new_valid = [new_valid[i] for i in range(len(new_valid)) if not i in tail_idx]\n",
    "y_new_valid = [y_valid[i] for i in range(len(y_valid)) if not i in tail_idx]"
   ]
  },
  {
   "cell_type": "code",
   "execution_count": 42,
   "id": "fae54566",
   "metadata": {},
   "outputs": [
    {
     "data": {
      "application/vnd.jupyter.widget-view+json": {
       "model_id": "b1b4cc9597614efca067891022d21002",
       "version_major": 2,
       "version_minor": 0
      },
      "text/plain": [
       "MetricVisualizer(layout=Layout(align_self='stretch', height='500px'))"
      ]
     },
     "metadata": {},
     "output_type": "display_data"
    },
    {
     "data": {
      "text/plain": [
       "<catboost.core.CatBoostClassifier at 0x7f67d4d8c490>"
      ]
     },
     "execution_count": 42,
     "metadata": {},
     "output_type": "execute_result"
    }
   ],
   "source": [
    "from catboost import CatBoostClassifier, Pool\n",
    "\n",
    "train_pool = Pool(new_valid, y_new_valid)\n",
    "# eval_pool = Pool(valid_tail , y_tail)\n",
    "eval_pool = Pool(valid_tail, y_tail)\n",
    "\n",
    "Final_cat = CatBoostClassifier(\n",
    "            iterations = 3000,\n",
    "            random_seed = 42,\n",
    "            learning_rate = 0.001,\n",
    "            loss_function = 'Logloss', \n",
    "            custom_metric = ['Logloss','AUC'],\n",
    "            early_stopping_rounds = 30,\n",
    "            use_best_model =  True,\n",
    "            task_type = \"GPU\",\n",
    "            bagging_temperature = 1,\n",
    "            verbose = False)\n",
    "\n",
    "Final_cat.fit(train_pool, eval_set=eval_pool, plot=True)"
   ]
  },
  {
   "cell_type": "code",
   "execution_count": 43,
   "id": "7d8210eb",
   "metadata": {},
   "outputs": [],
   "source": [
    "preds = Final_cat.predict(new_test , prediction_type='Probability')[:,1]\n",
    "\n",
    "from datetime import date, datetime, timezone, timedelta\n",
    "\n",
    "KST = timezone(timedelta(hours=9))\n",
    "time_record = datetime.now(KST)\n",
    "_day = str(time_record)[:10]\n",
    "_time = str(time_record.time())[:8]\n",
    "now_time = _day+'_'+_time\n",
    "\n",
    "test_to_csv(new_test.mean(axis=1),f'Stacking_SVD_{now_time}')"
   ]
  },
  {
   "cell_type": "code",
   "execution_count": 101,
   "id": "fd3c913a",
   "metadata": {},
   "outputs": [
    {
     "data": {
      "text/plain": [
       "744"
      ]
     },
     "execution_count": 101,
     "metadata": {},
     "output_type": "execute_result"
    }
   ],
   "source": [
    "test_to_csv()"
   ]
  },
  {
   "cell_type": "code",
   "execution_count": null,
   "id": "ae3a7e95",
   "metadata": {},
   "outputs": [],
   "source": []
  }
 ],
 "metadata": {
  "kernelspec": {
   "display_name": "Python 3 (ipykernel)",
   "language": "python",
   "name": "python3"
  },
  "language_info": {
   "codemirror_mode": {
    "name": "ipython",
    "version": 3
   },
   "file_extension": ".py",
   "mimetype": "text/x-python",
   "name": "python",
   "nbconvert_exporter": "python",
   "pygments_lexer": "ipython3",
   "version": "3.8.5"
  }
 },
 "nbformat": 4,
 "nbformat_minor": 5
}
