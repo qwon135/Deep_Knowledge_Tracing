{
 "cells": [
  {
   "cell_type": "code",
   "execution_count": 1,
   "id": "92d257cd-824a-4921-8b21-c14bada43824",
   "metadata": {},
   "outputs": [],
   "source": [
    "# https://www.kaggle.com/code/sarmat/lgbm-stacking-example/notebook"
   ]
  },
  {
   "cell_type": "code",
   "execution_count": 13,
   "id": "e1cc2c9a-80ee-4932-b759-7f49c34b9ee2",
   "metadata": {},
   "outputs": [],
   "source": [
    "import numpy as np # linear algebra\n",
    "import pandas as pd\n",
    "import random\n",
    "from scipy.sparse.linalg import svds\n",
    "import os\n",
    "\n",
    "from sklearn import metrics\n",
    "from sklearn.model_selection import cross_val_score, KFold\n",
    "from sklearn.model_selection import train_test_split\n",
    "from sklearn.decomposition import NMF, PCA\n",
    "\n",
    "import torch\n",
    "from tqdm import tqdm\n",
    "from dataset import custom_train_test_split, make_dataset\n",
    "\n",
    "from sklearn.metrics import RocCurveDisplay, accuracy_score, roc_auc_score, precision_score, recall_score, f1_score, roc_curve, auc\n",
    "\n",
    "\n",
    "def get_metric(targets, preds):\n",
    "    auc = roc_auc_score(targets, preds)\n",
    "    acc = accuracy_score(targets, np.where(preds >= 0.5, 1, 0))\n",
    "    precsion = precision_score(targets, np.where(preds >= 0.5, 1, 0))\n",
    "    recall = recall_score(targets, np.where(preds >= 0.5, 1, 0))\n",
    "    F1_score = f1_score(targets, np.where(preds >= 0.5, 1, 0))\n",
    "\n",
    "    print('auc :',auc)\n",
    "    print('acc :',acc)\n",
    "    print('precision :',precsion)\n",
    "    print('recall :',recall)\n",
    "\n",
    "def test_to_csv(preds, name:str):\n",
    "    \n",
    "    result = []\n",
    "    for n,i in enumerate(preds):\n",
    "        row = {}    \n",
    "        row['id'] = n\n",
    "        row['prediction'] = i\n",
    "        result.append(row)\n",
    "    pd.DataFrame(result).to_csv(name+'.csv', index=None)\n",
    "    \n"
   ]
  },
  {
   "cell_type": "code",
   "execution_count": 2,
   "id": "bbfda087",
   "metadata": {},
   "outputs": [],
   "source": [
    "train_data = pd.read_csv('/opt/ml/input/data/train_data.csv')\n",
    "test_data  = pd.read_csv('/opt/ml/input/data/test_data.csv')"
   ]
  },
  {
   "cell_type": "code",
   "execution_count": 3,
   "id": "ddcb5a82",
   "metadata": {},
   "outputs": [],
   "source": [
    "train_data.drop_duplicates(subset = [\"userID\", \"assessmentItemID\"], keep = \"last\", inplace = True)\n",
    "train_data.drop(['Timestamp','testId','KnowledgeTag'], axis=1, inplace=True, errors='ignore')"
   ]
  },
  {
   "cell_type": "code",
   "execution_count": 4,
   "id": "6b5f7b46",
   "metadata": {},
   "outputs": [],
   "source": [
    "matrix_train = train_data.pivot_table('answerCode', index='userID', columns='assessmentItemID')\n",
    "matrix_train.fillna(0.5, inplace=True)"
   ]
  },
  {
   "cell_type": "code",
   "execution_count": 5,
   "id": "c459f8af",
   "metadata": {},
   "outputs": [],
   "source": [
    "user_id2idx = {v:i for i,v in enumerate(matrix_train.index)}\n",
    "user_idx2id = {i:v for i,v in enumerate(matrix_train.index)}\n",
    "\n",
    "item_id2idx = {v:i for i,v in enumerate(matrix_train.columns)}\n",
    "item_idx2id = {i:v for i,v in enumerate(matrix_train.columns)}"
   ]
  },
  {
   "cell_type": "code",
   "execution_count": 6,
   "id": "713964ec",
   "metadata": {},
   "outputs": [],
   "source": [
    "def predict(matrix, userid, itemid, user_id2idx, item_id2idx, pca_model):\n",
    " \n",
    "    X = matrix\n",
    "    \n",
    "    X_pred = pca_model.inverse_transform(pca_model.transform(X))\n",
    "\n",
    "    ret = [X_pred[user_id2idx[u], item_id2idx[i]] for u,i in zip(userid, itemid)]\n",
    "    return ret"
   ]
  },
  {
   "cell_type": "code",
   "execution_count": 7,
   "id": "7cd21719",
   "metadata": {},
   "outputs": [],
   "source": [
    "model01 = PCA(n_components= 10) \n",
    "model02 = PCA(n_components= 14 )\n",
    "model03 = PCA(n_components= 18 )\n",
    "model04 = PCA(n_components= 22 )\n",
    "model05 = PCA(n_components= 26 )\n",
    "model06 = PCA(n_components= 30 )\n",
    "model07 = PCA(n_components= 34 )\n",
    "model08 = PCA(n_components= 38 )\n",
    "model09 = PCA(n_components= 42 )\n",
    "model10 = PCA(n_components= 46 )"
   ]
  },
  {
   "cell_type": "code",
   "execution_count": 8,
   "id": "a029b3fa",
   "metadata": {},
   "outputs": [
    {
     "data": {
      "text/plain": [
       "PCA(n_components=46)"
      ]
     },
     "execution_count": 8,
     "metadata": {},
     "output_type": "execute_result"
    }
   ],
   "source": [
    "model01.fit(matrix_train)\n",
    "model02.fit(matrix_train)\n",
    "model03.fit(matrix_train)\n",
    "model04.fit(matrix_train)\n",
    "model05.fit(matrix_train)\n",
    "model06.fit(matrix_train)\n",
    "model07.fit(matrix_train)\n",
    "model08.fit(matrix_train)\n",
    "model09.fit(matrix_train)\n",
    "model10.fit(matrix_train)"
   ]
  },
  {
   "cell_type": "code",
   "execution_count": 9,
   "id": "c404f1b8-04c6-49bf-843b-3f3485fd513a",
   "metadata": {},
   "outputs": [
    {
     "name": "stderr",
     "output_type": "stream",
     "text": [
      "/opt/conda/lib/python3.8/site-packages/sklearn/base.py:450: UserWarning: X does not have valid feature names, but PCA was fitted with feature names\n",
      "  warnings.warn(\n",
      "/opt/conda/lib/python3.8/site-packages/sklearn/base.py:450: UserWarning: X does not have valid feature names, but PCA was fitted with feature names\n",
      "  warnings.warn(\n",
      "/opt/conda/lib/python3.8/site-packages/sklearn/base.py:450: UserWarning: X does not have valid feature names, but PCA was fitted with feature names\n",
      "  warnings.warn(\n",
      "/opt/conda/lib/python3.8/site-packages/sklearn/base.py:450: UserWarning: X does not have valid feature names, but PCA was fitted with feature names\n",
      "  warnings.warn(\n",
      "/opt/conda/lib/python3.8/site-packages/sklearn/base.py:450: UserWarning: X does not have valid feature names, but PCA was fitted with feature names\n",
      "  warnings.warn(\n",
      "/opt/conda/lib/python3.8/site-packages/sklearn/base.py:450: UserWarning: X does not have valid feature names, but PCA was fitted with feature names\n",
      "  warnings.warn(\n",
      "/opt/conda/lib/python3.8/site-packages/sklearn/base.py:450: UserWarning: X does not have valid feature names, but PCA was fitted with feature names\n",
      "  warnings.warn(\n",
      "/opt/conda/lib/python3.8/site-packages/sklearn/base.py:450: UserWarning: X does not have valid feature names, but PCA was fitted with feature names\n",
      "  warnings.warn(\n",
      "/opt/conda/lib/python3.8/site-packages/sklearn/base.py:450: UserWarning: X does not have valid feature names, but PCA was fitted with feature names\n",
      "  warnings.warn(\n",
      "/opt/conda/lib/python3.8/site-packages/sklearn/base.py:450: UserWarning: X does not have valid feature names, but PCA was fitted with feature names\n",
      "  warnings.warn(\n",
      "/opt/conda/lib/python3.8/site-packages/sklearn/base.py:450: UserWarning: X does not have valid feature names, but PCA was fitted with feature names\n",
      "  warnings.warn(\n",
      "/opt/conda/lib/python3.8/site-packages/sklearn/base.py:450: UserWarning: X does not have valid feature names, but PCA was fitted with feature names\n",
      "  warnings.warn(\n",
      "/opt/conda/lib/python3.8/site-packages/sklearn/base.py:450: UserWarning: X does not have valid feature names, but PCA was fitted with feature names\n",
      "  warnings.warn(\n",
      "/opt/conda/lib/python3.8/site-packages/sklearn/base.py:450: UserWarning: X does not have valid feature names, but PCA was fitted with feature names\n",
      "  warnings.warn(\n",
      "/opt/conda/lib/python3.8/site-packages/sklearn/base.py:450: UserWarning: X does not have valid feature names, but PCA was fitted with feature names\n",
      "  warnings.warn(\n",
      "/opt/conda/lib/python3.8/site-packages/sklearn/base.py:450: UserWarning: X does not have valid feature names, but PCA was fitted with feature names\n",
      "  warnings.warn(\n",
      "/opt/conda/lib/python3.8/site-packages/sklearn/base.py:450: UserWarning: X does not have valid feature names, but PCA was fitted with feature names\n",
      "  warnings.warn(\n",
      "/opt/conda/lib/python3.8/site-packages/sklearn/base.py:450: UserWarning: X does not have valid feature names, but PCA was fitted with feature names\n",
      "  warnings.warn(\n",
      "/opt/conda/lib/python3.8/site-packages/sklearn/base.py:450: UserWarning: X does not have valid feature names, but PCA was fitted with feature names\n",
      "  warnings.warn(\n",
      "/opt/conda/lib/python3.8/site-packages/sklearn/base.py:450: UserWarning: X does not have valid feature names, but PCA was fitted with feature names\n",
      "  warnings.warn(\n"
     ]
    },
    {
     "name": "stdout",
     "output_type": "stream",
     "text": [
      "auc : 0.7736901133182142\n",
      "acc : 0.7579689548337316\n",
      "precision : 0.7736442273099363\n",
      "recall : 0.891453633332332\n",
      "AUC SVD01:None \n",
      "auc : 0.7802639083086065\n",
      "acc : 0.7605120917103974\n",
      "precision : 0.7753398372118488\n",
      "recall : 0.8933701823425155\n",
      "AUC SVD02:None \n",
      "auc : 0.7906537542325437\n",
      "acc : 0.7637913997882032\n",
      "precision : 0.7773394753572136\n",
      "recall : 0.896229985881222\n",
      "AUC SVD03:None \n",
      "auc : 0.7957495058662343\n",
      "acc : 0.7657794557057205\n",
      "precision : 0.7791600323666832\n",
      "recall : 0.8967046171407973\n",
      "AUC SVD04:None \n",
      "auc : 0.8038326773265547\n",
      "acc : 0.7715625332162808\n",
      "precision : 0.785557007100866\n",
      "recall : 0.8959536183123554\n",
      "AUC SVD05:None \n",
      "auc : 0.8084598575576581\n",
      "acc : 0.774310380801285\n",
      "precision : 0.7883249482095295\n",
      "recall : 0.8962119619093394\n",
      "AUC SVD06:None \n",
      "auc : 0.8117871114720614\n",
      "acc : 0.7763811083510159\n",
      "precision : 0.790605585123301\n",
      "recall : 0.896049746162396\n",
      "AUC SVD07:None \n",
      "auc : 0.8166637564790294\n",
      "acc : 0.7794950731643945\n",
      "precision : 0.7940911729772627\n",
      "recall : 0.8957493466310192\n",
      "AUC SVD08:None \n",
      "auc : 0.8200919625010551\n",
      "acc : 0.7819201077093265\n",
      "precision : 0.79687324561169\n",
      "recall : 0.89543092312776\n",
      "AUC SVD09:None \n",
      "auc : 0.8241918871497987\n",
      "acc : 0.784904159957798\n",
      "precision : 0.8001288486833276\n",
      "recall : 0.8954068911652497\n",
      "AUC SVD10:None \n"
     ]
    }
   ],
   "source": [
    "valid_user  = pd.read_csv('/opt/ml/input/data/cv_valid_data.csv').userID.unique()\n",
    "all_train = pd.read_csv('/opt/ml/input/data/all.csv')\n",
    "valid_data = all_train[all_train.userID.isin(valid_user)]\n",
    "userid = sorted(list(set([u for u in valid_data.userID])))\n",
    "user_id2idx_valid = {v:i for i,v in enumerate(userid)}\n",
    "\n",
    "matrix_valid = 0.5*np.ones((len(userid), len(item_id2idx)))\n",
    "for user,item,a in zip(valid_data.userID, valid_data.assessmentItemID, valid_data.answerCode):\n",
    "    user,item = user_id2idx_valid[user],item_id2idx[item]\n",
    "    matrix_valid[user,item] = a\n",
    "\n",
    "valid_predict01 = predict(matrix_valid, valid_data.userID, valid_data.assessmentItemID, user_id2idx_valid, item_id2idx, model01)\n",
    "valid_predict02 = predict(matrix_valid, valid_data.userID, valid_data.assessmentItemID, user_id2idx_valid, item_id2idx, model02)\n",
    "valid_predict03 = predict(matrix_valid, valid_data.userID, valid_data.assessmentItemID, user_id2idx_valid, item_id2idx, model03)\n",
    "valid_predict04 = predict(matrix_valid, valid_data.userID, valid_data.assessmentItemID, user_id2idx_valid, item_id2idx, model04)\n",
    "valid_predict05 = predict(matrix_valid, valid_data.userID, valid_data.assessmentItemID, user_id2idx_valid, item_id2idx, model05)\n",
    "valid_predict06 = predict(matrix_valid, valid_data.userID, valid_data.assessmentItemID, user_id2idx_valid, item_id2idx, model06)\n",
    "valid_predict07 = predict(matrix_valid, valid_data.userID, valid_data.assessmentItemID, user_id2idx_valid, item_id2idx, model07)\n",
    "valid_predict08 = predict(matrix_valid, valid_data.userID, valid_data.assessmentItemID, user_id2idx_valid, item_id2idx, model08)\n",
    "valid_predict09 = predict(matrix_valid, valid_data.userID, valid_data.assessmentItemID, user_id2idx_valid, item_id2idx, model09)\n",
    "valid_predict10 = predict(matrix_valid, valid_data.userID, valid_data.assessmentItemID, user_id2idx_valid, item_id2idx, model10)\n",
    "\n",
    "# item_id2idx는 train에서 사용한 것을 다시 사용한다.\n",
    "test_data  = pd.read_csv('/opt/ml/input/data/test_data.csv')\n",
    "\n",
    "userid = sorted(list(set([u for u in test_data.userID])))\n",
    "user_id2idx_test = {v:i for i,v in enumerate(userid)}\n",
    "\n",
    "matrix_test = 0.5*np.ones((len(userid), len(item_id2idx)))\n",
    "for user,item,a in zip(test_data.userID, test_data.assessmentItemID, test_data.answerCode):\n",
    "    user,item = user_id2idx_test[user],item_id2idx[item]\n",
    "    matrix_test[user,item] = a\n",
    "\n",
    "test_data = test_data[test_data.answerCode==-1]\n",
    "\n",
    "test_predict01 = predict(matrix_test, test_data.userID, test_data.assessmentItemID, user_id2idx_test, item_id2idx, model01)\n",
    "test_predict02 = predict(matrix_test, test_data.userID, test_data.assessmentItemID, user_id2idx_test, item_id2idx, model02)\n",
    "test_predict03 = predict(matrix_test, test_data.userID, test_data.assessmentItemID, user_id2idx_test, item_id2idx, model03)\n",
    "test_predict04 = predict(matrix_test, test_data.userID, test_data.assessmentItemID, user_id2idx_test, item_id2idx, model04)\n",
    "test_predict05 = predict(matrix_test, test_data.userID, test_data.assessmentItemID, user_id2idx_test, item_id2idx, model05)\n",
    "test_predict06 = predict(matrix_test, test_data.userID, test_data.assessmentItemID, user_id2idx_test, item_id2idx, model06)\n",
    "test_predict07 = predict(matrix_test, test_data.userID, test_data.assessmentItemID, user_id2idx_test, item_id2idx, model07)\n",
    "test_predict08 = predict(matrix_test, test_data.userID, test_data.assessmentItemID, user_id2idx_test, item_id2idx, model08)\n",
    "test_predict09 = predict(matrix_test, test_data.userID, test_data.assessmentItemID, user_id2idx_test, item_id2idx, model09)\n",
    "test_predict10 = predict(matrix_test, test_data.userID, test_data.assessmentItemID, user_id2idx_test, item_id2idx, model10)\n",
    "\n",
    "# print('Fold no: {}'.format(fold_))\n",
    "print(\"AUC SVD01:{} \".format(get_metric(valid_data.answerCode.to_numpy(), np.array(valid_predict01))))\n",
    "print(\"AUC SVD02:{} \".format(get_metric(valid_data.answerCode.to_numpy(), np.array(valid_predict02))))\n",
    "print(\"AUC SVD03:{} \".format(get_metric(valid_data.answerCode.to_numpy(), np.array(valid_predict03))))\n",
    "print(\"AUC SVD04:{} \".format(get_metric(valid_data.answerCode.to_numpy(), np.array(valid_predict04))))\n",
    "print(\"AUC SVD05:{} \".format(get_metric(valid_data.answerCode.to_numpy(), np.array(valid_predict05))))\n",
    "print(\"AUC SVD06:{} \".format(get_metric(valid_data.answerCode.to_numpy(), np.array(valid_predict06))))\n",
    "print(\"AUC SVD07:{} \".format(get_metric(valid_data.answerCode.to_numpy(), np.array(valid_predict07))))\n",
    "print(\"AUC SVD08:{} \".format(get_metric(valid_data.answerCode.to_numpy(), np.array(valid_predict08))))\n",
    "print(\"AUC SVD09:{} \".format(get_metric(valid_data.answerCode.to_numpy(), np.array(valid_predict09))))\n",
    "print(\"AUC SVD10:{} \".format(get_metric(valid_data.answerCode.to_numpy(), np.array(valid_predict10))))"
   ]
  },
  {
   "cell_type": "code",
   "execution_count": 14,
   "id": "c54c3c1a-f599-4934-ba5d-e861fcb603b3",
   "metadata": {},
   "outputs": [],
   "source": [
    "test_path = '/opt/ml/level2-dkt-level2-recsys-08/LetsEnsemble/test4feature'\n",
    "valid_path = '/opt/ml/level2-dkt-level2-recsys-08/LetsEnsemble/valid4feature'\n",
    "\n",
    "test_to_csv( valid_predict01, os.path.join(valid_path, 'PCA_valid01') )\n",
    "test_to_csv( valid_predict02, os.path.join(valid_path, 'PCA_valid02') )\n",
    "test_to_csv( valid_predict03, os.path.join(valid_path, 'PCA_valid03') )\n",
    "test_to_csv( valid_predict04, os.path.join(valid_path, 'PCA_valid04') )\n",
    "test_to_csv( valid_predict05, os.path.join(valid_path, 'PCA_valid05') )\n",
    "test_to_csv( valid_predict06, os.path.join(valid_path, 'PCA_valid06') )\n",
    "test_to_csv( valid_predict07, os.path.join(valid_path, 'PCA_valid07') )\n",
    "test_to_csv( valid_predict08, os.path.join(valid_path, 'PCA_valid08') )\n",
    "test_to_csv( valid_predict09, os.path.join(valid_path, 'PCA_valid09') )\n",
    "test_to_csv( valid_predict10, os.path.join(valid_path, 'PCA_valid10') )\n",
    "\n",
    "test_to_csv( test_predict01, os.path.join(test_path, 'PCA_test01') )\n",
    "test_to_csv( test_predict02, os.path.join(test_path, 'PCA_test02') )\n",
    "test_to_csv( test_predict03, os.path.join(test_path, 'PCA_test03') )\n",
    "test_to_csv( test_predict04, os.path.join(test_path, 'PCA_test04') )\n",
    "test_to_csv( test_predict05, os.path.join(test_path, 'PCA_test05') )\n",
    "test_to_csv( test_predict06, os.path.join(test_path, 'PCA_test06') )\n",
    "test_to_csv( test_predict07, os.path.join(test_path, 'PCA_test07') )\n",
    "test_to_csv( test_predict08, os.path.join(test_path, 'PCA_test08') )\n",
    "test_to_csv( test_predict09, os.path.join(test_path, 'PCA_test09') )\n",
    "test_to_csv( test_predict10, os.path.join(test_path, 'PCA_test10') )"
   ]
  },
  {
   "cell_type": "code",
   "execution_count": 26,
   "id": "a496d655",
   "metadata": {},
   "outputs": [],
   "source": [
    "new_valid = np.array([    \n",
    "                    valid_predict01,\n",
    "                    valid_predict02,\n",
    "                    valid_predict03,\n",
    "                    valid_predict04,\n",
    "                    valid_predict05,\n",
    "                    valid_predict06,\n",
    "                    valid_predict07,\n",
    "                    valid_predict08,\n",
    "                    valid_predict09,\n",
    "                    valid_predict10]).T\n",
    "\n",
    "new_test = np.array([\n",
    "                    test_predict01,\n",
    "                    test_predict02,\n",
    "                    test_predict03,\n",
    "                    test_predict04,\n",
    "                    test_predict05,\n",
    "                    test_predict06,\n",
    "                    test_predict07,\n",
    "                    test_predict08,\n",
    "                    test_predict09,\n",
    "                    test_predict10,]).T"
   ]
  },
  {
   "cell_type": "code",
   "execution_count": 27,
   "id": "f9e5fd4b",
   "metadata": {},
   "outputs": [],
   "source": [
    "val = pd.read_csv('/opt/ml/input/data/cv_valid_data.csv')\n",
    "tail_idx = val.index[val.answerCode==-1].to_numpy()"
   ]
  },
  {
   "cell_type": "code",
   "execution_count": 28,
   "id": "106ded69",
   "metadata": {},
   "outputs": [],
   "source": [
    "y_valid = valid_data.answerCode.to_numpy()\n",
    "\n",
    "valid_tail = [new_valid[i] for i in range(len(new_valid)) if i in tail_idx]\n",
    "y_tail = [y_valid[i] for i in range(len(y_valid)) if i in tail_idx]\n",
    "\n",
    "new_valid = [new_valid[i] for i in range(len(new_valid)) if not i in tail_idx]\n",
    "y_new_valid = [y_valid[i] for i in range(len(y_valid)) if not i in tail_idx]"
   ]
  },
  {
   "cell_type": "code",
   "execution_count": 29,
   "id": "fae54566",
   "metadata": {},
   "outputs": [
    {
     "data": {
      "application/vnd.jupyter.widget-view+json": {
       "model_id": "d88566c0339c4ceaac69bd15eba7e081",
       "version_major": 2,
       "version_minor": 0
      },
      "text/plain": [
       "MetricVisualizer(layout=Layout(align_self='stretch', height='500px'))"
      ]
     },
     "metadata": {},
     "output_type": "display_data"
    },
    {
     "data": {
      "text/plain": [
       "<catboost.core.CatBoostClassifier at 0x7f9867a003a0>"
      ]
     },
     "execution_count": 29,
     "metadata": {},
     "output_type": "execute_result"
    }
   ],
   "source": [
    "from catboost import CatBoostClassifier, Pool\n",
    "\n",
    "train_pool = Pool(new_valid, y_new_valid)\n",
    "# eval_pool = Pool(valid_tail , y_tail)\n",
    "eval_pool = Pool(valid_tail, y_tail)\n",
    "\n",
    "Final_cat = CatBoostClassifier(\n",
    "            iterations = 3000,\n",
    "            random_seed = 42,\n",
    "            learning_rate = 0.001,\n",
    "            loss_function = 'Logloss', \n",
    "            custom_metric = ['Logloss','AUC'],\n",
    "            early_stopping_rounds = 30,\n",
    "            use_best_model =  True,\n",
    "            task_type = \"GPU\",\n",
    "            bagging_temperature = 1,\n",
    "            verbose = False)\n",
    "\n",
    "Final_cat.fit(train_pool, eval_set=eval_pool, plot=True)"
   ]
  },
  {
   "cell_type": "code",
   "execution_count": 30,
   "id": "7d8210eb",
   "metadata": {},
   "outputs": [],
   "source": [
    "preds = Final_cat.predict(new_test , prediction_type='Probability')[:,1]\n",
    "\n",
    "from datetime import date, datetime, timezone, timedelta\n",
    "\n",
    "KST = timezone(timedelta(hours=9))\n",
    "time_record = datetime.now(KST)\n",
    "_day = str(time_record)[:10]\n",
    "_time = str(time_record.time())[:8]\n",
    "now_time = _day+'_'+_time\n",
    "\n",
    "test_to_csv(new_test.mean(axis=1),f'Stacking_PCA_{now_time}')"
   ]
  },
  {
   "cell_type": "code",
   "execution_count": null,
   "id": "cb983539",
   "metadata": {},
   "outputs": [],
   "source": []
  }
 ],
 "metadata": {
  "kernelspec": {
   "display_name": "Python 3 (ipykernel)",
   "language": "python",
   "name": "python3"
  },
  "language_info": {
   "codemirror_mode": {
    "name": "ipython",
    "version": 3
   },
   "file_extension": ".py",
   "mimetype": "text/x-python",
   "name": "python",
   "nbconvert_exporter": "python",
   "pygments_lexer": "ipython3",
   "version": "3.8.5"
  }
 },
 "nbformat": 4,
 "nbformat_minor": 5
}
